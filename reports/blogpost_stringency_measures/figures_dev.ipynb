{
 "cells": [
  {
   "cell_type": "code",
   "execution_count": 1,
   "metadata": {},
   "outputs": [
    {
     "name": "stdout",
     "output_type": "stream",
     "text": [
      "/Users/merlos/devel/magicbox-reports/magicbox-reports/reports/blogpost_stringency_measures\n"
     ]
    }
   ],
   "source": [
    "import pandas as pd\n",
    "import plotly.graph_objs as go\n",
    "import geopandas as gpd\n",
    "import os\n",
    "import plotly.express as px\n",
    "from plotly.subplots import make_subplots\n",
    "\n",
    "import dash_core_components as dcc\n",
    "\n",
    "# The cwd is the root of the project. To access the data folder ./data\n",
    "print (os.getcwd())\n",
    "\n",
    "\n"
   ]
  },
  {
   "cell_type": "code",
   "execution_count": 2,
   "metadata": {},
   "outputs": [
    {
     "ename": "AttributeError",
     "evalue": "'function' object has no attribute 'show'",
     "output_type": "error",
     "traceback": [
      "\u001b[0;31m---------------------------------------------------------------------------\u001b[0m",
      "\u001b[0;31mAttributeError\u001b[0m                            Traceback (most recent call last)",
      "\u001b[0;32m<ipython-input-2-78dcc97b1c0f>\u001b[0m in \u001b[0;36m<module>\u001b[0;34m\u001b[0m\n\u001b[1;32m     31\u001b[0m \u001b[0;34m\u001b[0m\u001b[0m\n\u001b[1;32m     32\u001b[0m \u001b[0mfigure\u001b[0m \u001b[0;34m=\u001b[0m \u001b[0mtotal_cases_at_max_stringency_day_vs_delay_high_stringency_max_cases\u001b[0m\u001b[0;34m\u001b[0m\u001b[0;34m\u001b[0m\u001b[0m\n\u001b[0;32m---> 33\u001b[0;31m \u001b[0mfigure\u001b[0m\u001b[0;34m.\u001b[0m\u001b[0mshow\u001b[0m\u001b[0;34m(\u001b[0m\u001b[0;34m)\u001b[0m\u001b[0;34m\u001b[0m\u001b[0;34m\u001b[0m\u001b[0m\n\u001b[0m",
      "\u001b[0;31mAttributeError\u001b[0m: 'function' object has no attribute 'show'"
     ]
    }
   ],
   "source": [
    "# load data as a dataframe\n",
    "gdf = gpd.read_file('https://raw.githubusercontent.com/unicef/magicbox-reports/report/blogpost_stringency_measures/data/geodata_COVID-19_stringency_delay.geojson', driver='GeoJSON')\n",
    "\n",
    " # Scatter scatter plot\n",
    "def total_cases_at_max_stringency_day_vs_delay_high_stringency_max_cases(): \n",
    "  figure = go.Figure(\n",
    "            data= [\n",
    "                go.Scatter(\n",
    "                    x=gdf.loc[gdf['continent'] == continent]['delay_day_max_new_cases_per_100000_first_day_sim_max_stringency_numerical_2020-03-01_2020-06-30'],\n",
    "                    y=gdf.loc[gdf['continent'] == continent]['total_cases_per_100k_at_first_day_max_stringency'],\n",
    "                    text=gdf.loc[gdf['continent'] == continent]['name'],\n",
    "                    mode='markers',\n",
    "                    opacity=0.8,\n",
    "                    marker={\n",
    "                        'size': 12, # gdf.loc[gdf['continent'] == continent]['max_stringency']\n",
    "                        'line': {'width': 0.5, 'color': 'white'},\n",
    "                        'color': i\n",
    "                    },\n",
    "                    name=continent\n",
    "                ) for i,continent in enumerate(gdf['continent'].unique())\n",
    "            ],\n",
    "            layout = go.Layout(\n",
    "                xaxis={'title': 'Days difference between maximum cases and first day high stringency'},\n",
    "                yaxis={'type': 'log', 'title': 'Total COVID cases per 100k pop. at first day max stringency'},\n",
    "                margin={'l': 100, 'b': 50, 't': 50, 'r': 100},\n",
    "                legend={'x': 1, 'y': 0.5},\n",
    "                hovermode='closest'\n",
    "            )\n",
    "          )\n",
    "  return figure\n",
    "\n",
    "figure = total_cases_at_max_stringency_day_vs_delay_high_stringency_max_cases\n",
    "figure.show()\n"
   ]
  },
  {
   "cell_type": "code",
   "execution_count": 8,
   "metadata": {},
   "outputs": [
    {
     "name": "stdout",
     "output_type": "stream",
     "text": [
      "hello\n",
      "   start_date    end_date  num_countries    color\n",
      "0  2020-01-01  2020-03-01              1  #b2b2b2\n",
      "1  2020-03-01  2020-03-08              0  #fcffa4\n",
      "2  2020-03-08  2020-03-15              1  #fcffa4\n",
      "3  2020-03-15  2020-03-22             24  #f4df53\n",
      "4  2020-03-22  2020-03-29             38  #f4df53\n"
     ]
    },
    {
     "data": {
      "application/vnd.plotly.v1+json": {
       "config": {
        "plotlyServerURL": "https://plot.ly"
       },
       "data": [
        {
         "marker": {
          "color": [
           "#b2b2b2",
           "#fcffa4",
           "#fcffa4",
           "#f4df53",
           "#f4df53",
           "#fbb61a",
           "#fbb61a",
           "#f98e09",
           "#f98e09",
           "#ed6925",
           "#ed6925",
           "#d84c3e",
           "#d84c3e",
           "#bc3754",
           "#bc3754",
           "#9b2964",
           "#9b2964",
           "#781c6d",
           "#781c6d",
           "#57106e",
           "#57106e",
           "#340a5f",
           "#340a5f",
           "#120a32",
           "#120a32",
           "#000004",
           "#000004",
           "#b2b2b2"
          ]
         },
         "type": "bar",
         "x": [
          "2020-01-01",
          "2020-03-01",
          "2020-03-08",
          "2020-03-15",
          "2020-03-22",
          "2020-03-29",
          "2020-04-05",
          "2020-04-12",
          "2020-04-19",
          "2020-04-26",
          "2020-05-03",
          "2020-05-10",
          "2020-05-17",
          "2020-05-24",
          "2020-05-31",
          "2020-06-07",
          "2020-06-14",
          "2020-06-21",
          "2020-06-28",
          "2020-07-05",
          "2020-07-12",
          "2020-07-19",
          "2020-07-26",
          "2020-08-02",
          "2020-08-09",
          "2020-08-16",
          "2020-08-23",
          "2020-08-30"
         ],
         "y": [
          1,
          0,
          1,
          24,
          38,
          34,
          29,
          18,
          4,
          9,
          6,
          2,
          2,
          1,
          0,
          0,
          3,
          0,
          1,
          1,
          1,
          1,
          0,
          1,
          1,
          2,
          0,
          4
         ]
        }
       ],
       "layout": {
        "margin": {
         "b": 20,
         "l": 0,
         "r": 0,
         "t": 0
        },
        "template": {
         "data": {
          "bar": [
           {
            "error_x": {
             "color": "#2a3f5f"
            },
            "error_y": {
             "color": "#2a3f5f"
            },
            "marker": {
             "line": {
              "color": "#E5ECF6",
              "width": 0.5
             }
            },
            "type": "bar"
           }
          ],
          "barpolar": [
           {
            "marker": {
             "line": {
              "color": "#E5ECF6",
              "width": 0.5
             }
            },
            "type": "barpolar"
           }
          ],
          "carpet": [
           {
            "aaxis": {
             "endlinecolor": "#2a3f5f",
             "gridcolor": "white",
             "linecolor": "white",
             "minorgridcolor": "white",
             "startlinecolor": "#2a3f5f"
            },
            "baxis": {
             "endlinecolor": "#2a3f5f",
             "gridcolor": "white",
             "linecolor": "white",
             "minorgridcolor": "white",
             "startlinecolor": "#2a3f5f"
            },
            "type": "carpet"
           }
          ],
          "choropleth": [
           {
            "colorbar": {
             "outlinewidth": 0,
             "ticks": ""
            },
            "type": "choropleth"
           }
          ],
          "contour": [
           {
            "colorbar": {
             "outlinewidth": 0,
             "ticks": ""
            },
            "colorscale": [
             [
              0,
              "#0d0887"
             ],
             [
              0.1111111111111111,
              "#46039f"
             ],
             [
              0.2222222222222222,
              "#7201a8"
             ],
             [
              0.3333333333333333,
              "#9c179e"
             ],
             [
              0.4444444444444444,
              "#bd3786"
             ],
             [
              0.5555555555555556,
              "#d8576b"
             ],
             [
              0.6666666666666666,
              "#ed7953"
             ],
             [
              0.7777777777777778,
              "#fb9f3a"
             ],
             [
              0.8888888888888888,
              "#fdca26"
             ],
             [
              1,
              "#f0f921"
             ]
            ],
            "type": "contour"
           }
          ],
          "contourcarpet": [
           {
            "colorbar": {
             "outlinewidth": 0,
             "ticks": ""
            },
            "type": "contourcarpet"
           }
          ],
          "heatmap": [
           {
            "colorbar": {
             "outlinewidth": 0,
             "ticks": ""
            },
            "colorscale": [
             [
              0,
              "#0d0887"
             ],
             [
              0.1111111111111111,
              "#46039f"
             ],
             [
              0.2222222222222222,
              "#7201a8"
             ],
             [
              0.3333333333333333,
              "#9c179e"
             ],
             [
              0.4444444444444444,
              "#bd3786"
             ],
             [
              0.5555555555555556,
              "#d8576b"
             ],
             [
              0.6666666666666666,
              "#ed7953"
             ],
             [
              0.7777777777777778,
              "#fb9f3a"
             ],
             [
              0.8888888888888888,
              "#fdca26"
             ],
             [
              1,
              "#f0f921"
             ]
            ],
            "type": "heatmap"
           }
          ],
          "heatmapgl": [
           {
            "colorbar": {
             "outlinewidth": 0,
             "ticks": ""
            },
            "colorscale": [
             [
              0,
              "#0d0887"
             ],
             [
              0.1111111111111111,
              "#46039f"
             ],
             [
              0.2222222222222222,
              "#7201a8"
             ],
             [
              0.3333333333333333,
              "#9c179e"
             ],
             [
              0.4444444444444444,
              "#bd3786"
             ],
             [
              0.5555555555555556,
              "#d8576b"
             ],
             [
              0.6666666666666666,
              "#ed7953"
             ],
             [
              0.7777777777777778,
              "#fb9f3a"
             ],
             [
              0.8888888888888888,
              "#fdca26"
             ],
             [
              1,
              "#f0f921"
             ]
            ],
            "type": "heatmapgl"
           }
          ],
          "histogram": [
           {
            "marker": {
             "colorbar": {
              "outlinewidth": 0,
              "ticks": ""
             }
            },
            "type": "histogram"
           }
          ],
          "histogram2d": [
           {
            "colorbar": {
             "outlinewidth": 0,
             "ticks": ""
            },
            "colorscale": [
             [
              0,
              "#0d0887"
             ],
             [
              0.1111111111111111,
              "#46039f"
             ],
             [
              0.2222222222222222,
              "#7201a8"
             ],
             [
              0.3333333333333333,
              "#9c179e"
             ],
             [
              0.4444444444444444,
              "#bd3786"
             ],
             [
              0.5555555555555556,
              "#d8576b"
             ],
             [
              0.6666666666666666,
              "#ed7953"
             ],
             [
              0.7777777777777778,
              "#fb9f3a"
             ],
             [
              0.8888888888888888,
              "#fdca26"
             ],
             [
              1,
              "#f0f921"
             ]
            ],
            "type": "histogram2d"
           }
          ],
          "histogram2dcontour": [
           {
            "colorbar": {
             "outlinewidth": 0,
             "ticks": ""
            },
            "colorscale": [
             [
              0,
              "#0d0887"
             ],
             [
              0.1111111111111111,
              "#46039f"
             ],
             [
              0.2222222222222222,
              "#7201a8"
             ],
             [
              0.3333333333333333,
              "#9c179e"
             ],
             [
              0.4444444444444444,
              "#bd3786"
             ],
             [
              0.5555555555555556,
              "#d8576b"
             ],
             [
              0.6666666666666666,
              "#ed7953"
             ],
             [
              0.7777777777777778,
              "#fb9f3a"
             ],
             [
              0.8888888888888888,
              "#fdca26"
             ],
             [
              1,
              "#f0f921"
             ]
            ],
            "type": "histogram2dcontour"
           }
          ],
          "mesh3d": [
           {
            "colorbar": {
             "outlinewidth": 0,
             "ticks": ""
            },
            "type": "mesh3d"
           }
          ],
          "parcoords": [
           {
            "line": {
             "colorbar": {
              "outlinewidth": 0,
              "ticks": ""
             }
            },
            "type": "parcoords"
           }
          ],
          "pie": [
           {
            "automargin": true,
            "type": "pie"
           }
          ],
          "scatter": [
           {
            "marker": {
             "colorbar": {
              "outlinewidth": 0,
              "ticks": ""
             }
            },
            "type": "scatter"
           }
          ],
          "scatter3d": [
           {
            "line": {
             "colorbar": {
              "outlinewidth": 0,
              "ticks": ""
             }
            },
            "marker": {
             "colorbar": {
              "outlinewidth": 0,
              "ticks": ""
             }
            },
            "type": "scatter3d"
           }
          ],
          "scattercarpet": [
           {
            "marker": {
             "colorbar": {
              "outlinewidth": 0,
              "ticks": ""
             }
            },
            "type": "scattercarpet"
           }
          ],
          "scattergeo": [
           {
            "marker": {
             "colorbar": {
              "outlinewidth": 0,
              "ticks": ""
             }
            },
            "type": "scattergeo"
           }
          ],
          "scattergl": [
           {
            "marker": {
             "colorbar": {
              "outlinewidth": 0,
              "ticks": ""
             }
            },
            "type": "scattergl"
           }
          ],
          "scattermapbox": [
           {
            "marker": {
             "colorbar": {
              "outlinewidth": 0,
              "ticks": ""
             }
            },
            "type": "scattermapbox"
           }
          ],
          "scatterpolar": [
           {
            "marker": {
             "colorbar": {
              "outlinewidth": 0,
              "ticks": ""
             }
            },
            "type": "scatterpolar"
           }
          ],
          "scatterpolargl": [
           {
            "marker": {
             "colorbar": {
              "outlinewidth": 0,
              "ticks": ""
             }
            },
            "type": "scatterpolargl"
           }
          ],
          "scatterternary": [
           {
            "marker": {
             "colorbar": {
              "outlinewidth": 0,
              "ticks": ""
             }
            },
            "type": "scatterternary"
           }
          ],
          "surface": [
           {
            "colorbar": {
             "outlinewidth": 0,
             "ticks": ""
            },
            "colorscale": [
             [
              0,
              "#0d0887"
             ],
             [
              0.1111111111111111,
              "#46039f"
             ],
             [
              0.2222222222222222,
              "#7201a8"
             ],
             [
              0.3333333333333333,
              "#9c179e"
             ],
             [
              0.4444444444444444,
              "#bd3786"
             ],
             [
              0.5555555555555556,
              "#d8576b"
             ],
             [
              0.6666666666666666,
              "#ed7953"
             ],
             [
              0.7777777777777778,
              "#fb9f3a"
             ],
             [
              0.8888888888888888,
              "#fdca26"
             ],
             [
              1,
              "#f0f921"
             ]
            ],
            "type": "surface"
           }
          ],
          "table": [
           {
            "cells": {
             "fill": {
              "color": "#EBF0F8"
             },
             "line": {
              "color": "white"
             }
            },
            "header": {
             "fill": {
              "color": "#C8D4E3"
             },
             "line": {
              "color": "white"
             }
            },
            "type": "table"
           }
          ]
         },
         "layout": {
          "annotationdefaults": {
           "arrowcolor": "#2a3f5f",
           "arrowhead": 0,
           "arrowwidth": 1
          },
          "coloraxis": {
           "colorbar": {
            "outlinewidth": 0,
            "ticks": ""
           }
          },
          "colorscale": {
           "diverging": [
            [
             0,
             "#8e0152"
            ],
            [
             0.1,
             "#c51b7d"
            ],
            [
             0.2,
             "#de77ae"
            ],
            [
             0.3,
             "#f1b6da"
            ],
            [
             0.4,
             "#fde0ef"
            ],
            [
             0.5,
             "#f7f7f7"
            ],
            [
             0.6,
             "#e6f5d0"
            ],
            [
             0.7,
             "#b8e186"
            ],
            [
             0.8,
             "#7fbc41"
            ],
            [
             0.9,
             "#4d9221"
            ],
            [
             1,
             "#276419"
            ]
           ],
           "sequential": [
            [
             0,
             "#0d0887"
            ],
            [
             0.1111111111111111,
             "#46039f"
            ],
            [
             0.2222222222222222,
             "#7201a8"
            ],
            [
             0.3333333333333333,
             "#9c179e"
            ],
            [
             0.4444444444444444,
             "#bd3786"
            ],
            [
             0.5555555555555556,
             "#d8576b"
            ],
            [
             0.6666666666666666,
             "#ed7953"
            ],
            [
             0.7777777777777778,
             "#fb9f3a"
            ],
            [
             0.8888888888888888,
             "#fdca26"
            ],
            [
             1,
             "#f0f921"
            ]
           ],
           "sequentialminus": [
            [
             0,
             "#0d0887"
            ],
            [
             0.1111111111111111,
             "#46039f"
            ],
            [
             0.2222222222222222,
             "#7201a8"
            ],
            [
             0.3333333333333333,
             "#9c179e"
            ],
            [
             0.4444444444444444,
             "#bd3786"
            ],
            [
             0.5555555555555556,
             "#d8576b"
            ],
            [
             0.6666666666666666,
             "#ed7953"
            ],
            [
             0.7777777777777778,
             "#fb9f3a"
            ],
            [
             0.8888888888888888,
             "#fdca26"
            ],
            [
             1,
             "#f0f921"
            ]
           ]
          },
          "colorway": [
           "#636efa",
           "#EF553B",
           "#00cc96",
           "#ab63fa",
           "#FFA15A",
           "#19d3f3",
           "#FF6692",
           "#B6E880",
           "#FF97FF",
           "#FECB52"
          ],
          "font": {
           "color": "#2a3f5f"
          },
          "geo": {
           "bgcolor": "white",
           "lakecolor": "white",
           "landcolor": "#E5ECF6",
           "showlakes": true,
           "showland": true,
           "subunitcolor": "white"
          },
          "hoverlabel": {
           "align": "left"
          },
          "hovermode": "closest",
          "mapbox": {
           "style": "light"
          },
          "paper_bgcolor": "white",
          "plot_bgcolor": "#E5ECF6",
          "polar": {
           "angularaxis": {
            "gridcolor": "white",
            "linecolor": "white",
            "ticks": ""
           },
           "bgcolor": "#E5ECF6",
           "radialaxis": {
            "gridcolor": "white",
            "linecolor": "white",
            "ticks": ""
           }
          },
          "scene": {
           "xaxis": {
            "backgroundcolor": "#E5ECF6",
            "gridcolor": "white",
            "gridwidth": 2,
            "linecolor": "white",
            "showbackground": true,
            "ticks": "",
            "zerolinecolor": "white"
           },
           "yaxis": {
            "backgroundcolor": "#E5ECF6",
            "gridcolor": "white",
            "gridwidth": 2,
            "linecolor": "white",
            "showbackground": true,
            "ticks": "",
            "zerolinecolor": "white"
           },
           "zaxis": {
            "backgroundcolor": "#E5ECF6",
            "gridcolor": "white",
            "gridwidth": 2,
            "linecolor": "white",
            "showbackground": true,
            "ticks": "",
            "zerolinecolor": "white"
           }
          },
          "shapedefaults": {
           "line": {
            "color": "#2a3f5f"
           }
          },
          "ternary": {
           "aaxis": {
            "gridcolor": "white",
            "linecolor": "white",
            "ticks": ""
           },
           "baxis": {
            "gridcolor": "white",
            "linecolor": "white",
            "ticks": ""
           },
           "bgcolor": "#E5ECF6",
           "caxis": {
            "gridcolor": "white",
            "linecolor": "white",
            "ticks": ""
           }
          },
          "title": {
           "x": 0.05
          },
          "xaxis": {
           "automargin": true,
           "gridcolor": "white",
           "linecolor": "white",
           "ticks": "",
           "title": {
            "standoff": 15
           },
           "zerolinecolor": "white",
           "zerolinewidth": 2
          },
          "yaxis": {
           "automargin": true,
           "gridcolor": "white",
           "linecolor": "white",
           "ticks": "",
           "title": {
            "standoff": 15
           },
           "zerolinecolor": "white",
           "zerolinewidth": 2
          }
         }
        },
        "xaxis": {
         "title": {
          "text": "First day of maximum stringency index"
         }
        },
        "yaxis": {
         "title": {
          "text": "Number of countries"
         }
        }
       }
      },
      "text/html": [
       "<div>\n",
       "        \n",
       "        \n",
       "            <div id=\"501de8e2-84a6-4777-b41b-9dfb38e226e8\" class=\"plotly-graph-div\" style=\"height:525px; width:100%;\"></div>\n",
       "            <script type=\"text/javascript\">\n",
       "                require([\"plotly\"], function(Plotly) {\n",
       "                    window.PLOTLYENV=window.PLOTLYENV || {};\n",
       "                    \n",
       "                if (document.getElementById(\"501de8e2-84a6-4777-b41b-9dfb38e226e8\")) {\n",
       "                    Plotly.newPlot(\n",
       "                        '501de8e2-84a6-4777-b41b-9dfb38e226e8',\n",
       "                        [{\"marker\": {\"color\": [\"#b2b2b2\", \"#fcffa4\", \"#fcffa4\", \"#f4df53\", \"#f4df53\", \"#fbb61a\", \"#fbb61a\", \"#f98e09\", \"#f98e09\", \"#ed6925\", \"#ed6925\", \"#d84c3e\", \"#d84c3e\", \"#bc3754\", \"#bc3754\", \"#9b2964\", \"#9b2964\", \"#781c6d\", \"#781c6d\", \"#57106e\", \"#57106e\", \"#340a5f\", \"#340a5f\", \"#120a32\", \"#120a32\", \"#000004\", \"#000004\", \"#b2b2b2\"]}, \"type\": \"bar\", \"x\": [\"2020-01-01\", \"2020-03-01\", \"2020-03-08\", \"2020-03-15\", \"2020-03-22\", \"2020-03-29\", \"2020-04-05\", \"2020-04-12\", \"2020-04-19\", \"2020-04-26\", \"2020-05-03\", \"2020-05-10\", \"2020-05-17\", \"2020-05-24\", \"2020-05-31\", \"2020-06-07\", \"2020-06-14\", \"2020-06-21\", \"2020-06-28\", \"2020-07-05\", \"2020-07-12\", \"2020-07-19\", \"2020-07-26\", \"2020-08-02\", \"2020-08-09\", \"2020-08-16\", \"2020-08-23\", \"2020-08-30\"], \"y\": [1, 0, 1, 24, 38, 34, 29, 18, 4, 9, 6, 2, 2, 1, 0, 0, 3, 0, 1, 1, 1, 1, 0, 1, 1, 2, 0, 4]}],\n",
       "                        {\"margin\": {\"b\": 20, \"l\": 0, \"r\": 0, \"t\": 0}, \"template\": {\"data\": {\"bar\": [{\"error_x\": {\"color\": \"#2a3f5f\"}, \"error_y\": {\"color\": \"#2a3f5f\"}, \"marker\": {\"line\": {\"color\": \"#E5ECF6\", \"width\": 0.5}}, \"type\": \"bar\"}], \"barpolar\": [{\"marker\": {\"line\": {\"color\": \"#E5ECF6\", \"width\": 0.5}}, \"type\": \"barpolar\"}], \"carpet\": [{\"aaxis\": {\"endlinecolor\": \"#2a3f5f\", \"gridcolor\": \"white\", \"linecolor\": \"white\", \"minorgridcolor\": \"white\", \"startlinecolor\": \"#2a3f5f\"}, \"baxis\": {\"endlinecolor\": \"#2a3f5f\", \"gridcolor\": \"white\", \"linecolor\": \"white\", \"minorgridcolor\": \"white\", \"startlinecolor\": \"#2a3f5f\"}, \"type\": \"carpet\"}], \"choropleth\": [{\"colorbar\": {\"outlinewidth\": 0, \"ticks\": \"\"}, \"type\": \"choropleth\"}], \"contour\": [{\"colorbar\": {\"outlinewidth\": 0, \"ticks\": \"\"}, \"colorscale\": [[0.0, \"#0d0887\"], [0.1111111111111111, \"#46039f\"], [0.2222222222222222, \"#7201a8\"], [0.3333333333333333, \"#9c179e\"], [0.4444444444444444, \"#bd3786\"], [0.5555555555555556, \"#d8576b\"], [0.6666666666666666, \"#ed7953\"], [0.7777777777777778, \"#fb9f3a\"], [0.8888888888888888, \"#fdca26\"], [1.0, \"#f0f921\"]], \"type\": \"contour\"}], \"contourcarpet\": [{\"colorbar\": {\"outlinewidth\": 0, \"ticks\": \"\"}, \"type\": \"contourcarpet\"}], \"heatmap\": [{\"colorbar\": {\"outlinewidth\": 0, \"ticks\": \"\"}, \"colorscale\": [[0.0, \"#0d0887\"], [0.1111111111111111, \"#46039f\"], [0.2222222222222222, \"#7201a8\"], [0.3333333333333333, \"#9c179e\"], [0.4444444444444444, \"#bd3786\"], [0.5555555555555556, \"#d8576b\"], [0.6666666666666666, \"#ed7953\"], [0.7777777777777778, \"#fb9f3a\"], [0.8888888888888888, \"#fdca26\"], [1.0, \"#f0f921\"]], \"type\": \"heatmap\"}], \"heatmapgl\": [{\"colorbar\": {\"outlinewidth\": 0, \"ticks\": \"\"}, \"colorscale\": [[0.0, \"#0d0887\"], [0.1111111111111111, \"#46039f\"], [0.2222222222222222, \"#7201a8\"], [0.3333333333333333, \"#9c179e\"], [0.4444444444444444, \"#bd3786\"], [0.5555555555555556, \"#d8576b\"], [0.6666666666666666, \"#ed7953\"], [0.7777777777777778, \"#fb9f3a\"], [0.8888888888888888, \"#fdca26\"], [1.0, \"#f0f921\"]], \"type\": \"heatmapgl\"}], \"histogram\": [{\"marker\": {\"colorbar\": {\"outlinewidth\": 0, \"ticks\": \"\"}}, \"type\": \"histogram\"}], \"histogram2d\": [{\"colorbar\": {\"outlinewidth\": 0, \"ticks\": \"\"}, \"colorscale\": [[0.0, \"#0d0887\"], [0.1111111111111111, \"#46039f\"], [0.2222222222222222, \"#7201a8\"], [0.3333333333333333, \"#9c179e\"], [0.4444444444444444, \"#bd3786\"], [0.5555555555555556, \"#d8576b\"], [0.6666666666666666, \"#ed7953\"], [0.7777777777777778, \"#fb9f3a\"], [0.8888888888888888, \"#fdca26\"], [1.0, \"#f0f921\"]], \"type\": \"histogram2d\"}], \"histogram2dcontour\": [{\"colorbar\": {\"outlinewidth\": 0, \"ticks\": \"\"}, \"colorscale\": [[0.0, \"#0d0887\"], [0.1111111111111111, \"#46039f\"], [0.2222222222222222, \"#7201a8\"], [0.3333333333333333, \"#9c179e\"], [0.4444444444444444, \"#bd3786\"], [0.5555555555555556, \"#d8576b\"], [0.6666666666666666, \"#ed7953\"], [0.7777777777777778, \"#fb9f3a\"], [0.8888888888888888, \"#fdca26\"], [1.0, \"#f0f921\"]], \"type\": \"histogram2dcontour\"}], \"mesh3d\": [{\"colorbar\": {\"outlinewidth\": 0, \"ticks\": \"\"}, \"type\": \"mesh3d\"}], \"parcoords\": [{\"line\": {\"colorbar\": {\"outlinewidth\": 0, \"ticks\": \"\"}}, \"type\": \"parcoords\"}], \"pie\": [{\"automargin\": true, \"type\": \"pie\"}], \"scatter\": [{\"marker\": {\"colorbar\": {\"outlinewidth\": 0, \"ticks\": \"\"}}, \"type\": \"scatter\"}], \"scatter3d\": [{\"line\": {\"colorbar\": {\"outlinewidth\": 0, \"ticks\": \"\"}}, \"marker\": {\"colorbar\": {\"outlinewidth\": 0, \"ticks\": \"\"}}, \"type\": \"scatter3d\"}], \"scattercarpet\": [{\"marker\": {\"colorbar\": {\"outlinewidth\": 0, \"ticks\": \"\"}}, \"type\": \"scattercarpet\"}], \"scattergeo\": [{\"marker\": {\"colorbar\": {\"outlinewidth\": 0, \"ticks\": \"\"}}, \"type\": \"scattergeo\"}], \"scattergl\": [{\"marker\": {\"colorbar\": {\"outlinewidth\": 0, \"ticks\": \"\"}}, \"type\": \"scattergl\"}], \"scattermapbox\": [{\"marker\": {\"colorbar\": {\"outlinewidth\": 0, \"ticks\": \"\"}}, \"type\": \"scattermapbox\"}], \"scatterpolar\": [{\"marker\": {\"colorbar\": {\"outlinewidth\": 0, \"ticks\": \"\"}}, \"type\": \"scatterpolar\"}], \"scatterpolargl\": [{\"marker\": {\"colorbar\": {\"outlinewidth\": 0, \"ticks\": \"\"}}, \"type\": \"scatterpolargl\"}], \"scatterternary\": [{\"marker\": {\"colorbar\": {\"outlinewidth\": 0, \"ticks\": \"\"}}, \"type\": \"scatterternary\"}], \"surface\": [{\"colorbar\": {\"outlinewidth\": 0, \"ticks\": \"\"}, \"colorscale\": [[0.0, \"#0d0887\"], [0.1111111111111111, \"#46039f\"], [0.2222222222222222, \"#7201a8\"], [0.3333333333333333, \"#9c179e\"], [0.4444444444444444, \"#bd3786\"], [0.5555555555555556, \"#d8576b\"], [0.6666666666666666, \"#ed7953\"], [0.7777777777777778, \"#fb9f3a\"], [0.8888888888888888, \"#fdca26\"], [1.0, \"#f0f921\"]], \"type\": \"surface\"}], \"table\": [{\"cells\": {\"fill\": {\"color\": \"#EBF0F8\"}, \"line\": {\"color\": \"white\"}}, \"header\": {\"fill\": {\"color\": \"#C8D4E3\"}, \"line\": {\"color\": \"white\"}}, \"type\": \"table\"}]}, \"layout\": {\"annotationdefaults\": {\"arrowcolor\": \"#2a3f5f\", \"arrowhead\": 0, \"arrowwidth\": 1}, \"coloraxis\": {\"colorbar\": {\"outlinewidth\": 0, \"ticks\": \"\"}}, \"colorscale\": {\"diverging\": [[0, \"#8e0152\"], [0.1, \"#c51b7d\"], [0.2, \"#de77ae\"], [0.3, \"#f1b6da\"], [0.4, \"#fde0ef\"], [0.5, \"#f7f7f7\"], [0.6, \"#e6f5d0\"], [0.7, \"#b8e186\"], [0.8, \"#7fbc41\"], [0.9, \"#4d9221\"], [1, \"#276419\"]], \"sequential\": [[0.0, \"#0d0887\"], [0.1111111111111111, \"#46039f\"], [0.2222222222222222, \"#7201a8\"], [0.3333333333333333, \"#9c179e\"], [0.4444444444444444, \"#bd3786\"], [0.5555555555555556, \"#d8576b\"], [0.6666666666666666, \"#ed7953\"], [0.7777777777777778, \"#fb9f3a\"], [0.8888888888888888, \"#fdca26\"], [1.0, \"#f0f921\"]], \"sequentialminus\": [[0.0, \"#0d0887\"], [0.1111111111111111, \"#46039f\"], [0.2222222222222222, \"#7201a8\"], [0.3333333333333333, \"#9c179e\"], [0.4444444444444444, \"#bd3786\"], [0.5555555555555556, \"#d8576b\"], [0.6666666666666666, \"#ed7953\"], [0.7777777777777778, \"#fb9f3a\"], [0.8888888888888888, \"#fdca26\"], [1.0, \"#f0f921\"]]}, \"colorway\": [\"#636efa\", \"#EF553B\", \"#00cc96\", \"#ab63fa\", \"#FFA15A\", \"#19d3f3\", \"#FF6692\", \"#B6E880\", \"#FF97FF\", \"#FECB52\"], \"font\": {\"color\": \"#2a3f5f\"}, \"geo\": {\"bgcolor\": \"white\", \"lakecolor\": \"white\", \"landcolor\": \"#E5ECF6\", \"showlakes\": true, \"showland\": true, \"subunitcolor\": \"white\"}, \"hoverlabel\": {\"align\": \"left\"}, \"hovermode\": \"closest\", \"mapbox\": {\"style\": \"light\"}, \"paper_bgcolor\": \"white\", \"plot_bgcolor\": \"#E5ECF6\", \"polar\": {\"angularaxis\": {\"gridcolor\": \"white\", \"linecolor\": \"white\", \"ticks\": \"\"}, \"bgcolor\": \"#E5ECF6\", \"radialaxis\": {\"gridcolor\": \"white\", \"linecolor\": \"white\", \"ticks\": \"\"}}, \"scene\": {\"xaxis\": {\"backgroundcolor\": \"#E5ECF6\", \"gridcolor\": \"white\", \"gridwidth\": 2, \"linecolor\": \"white\", \"showbackground\": true, \"ticks\": \"\", \"zerolinecolor\": \"white\"}, \"yaxis\": {\"backgroundcolor\": \"#E5ECF6\", \"gridcolor\": \"white\", \"gridwidth\": 2, \"linecolor\": \"white\", \"showbackground\": true, \"ticks\": \"\", \"zerolinecolor\": \"white\"}, \"zaxis\": {\"backgroundcolor\": \"#E5ECF6\", \"gridcolor\": \"white\", \"gridwidth\": 2, \"linecolor\": \"white\", \"showbackground\": true, \"ticks\": \"\", \"zerolinecolor\": \"white\"}}, \"shapedefaults\": {\"line\": {\"color\": \"#2a3f5f\"}}, \"ternary\": {\"aaxis\": {\"gridcolor\": \"white\", \"linecolor\": \"white\", \"ticks\": \"\"}, \"baxis\": {\"gridcolor\": \"white\", \"linecolor\": \"white\", \"ticks\": \"\"}, \"bgcolor\": \"#E5ECF6\", \"caxis\": {\"gridcolor\": \"white\", \"linecolor\": \"white\", \"ticks\": \"\"}}, \"title\": {\"x\": 0.05}, \"xaxis\": {\"automargin\": true, \"gridcolor\": \"white\", \"linecolor\": \"white\", \"ticks\": \"\", \"title\": {\"standoff\": 15}, \"zerolinecolor\": \"white\", \"zerolinewidth\": 2}, \"yaxis\": {\"automargin\": true, \"gridcolor\": \"white\", \"linecolor\": \"white\", \"ticks\": \"\", \"title\": {\"standoff\": 15}, \"zerolinecolor\": \"white\", \"zerolinewidth\": 2}}}, \"xaxis\": {\"title\": {\"text\": \"First day of maximum stringency index\"}}, \"yaxis\": {\"title\": {\"text\": \"Number of countries\"}}},\n",
       "                        {\"responsive\": true}\n",
       "                    ).then(function(){\n",
       "                            \n",
       "var gd = document.getElementById('501de8e2-84a6-4777-b41b-9dfb38e226e8');\n",
       "var x = new MutationObserver(function (mutations, observer) {{\n",
       "        var display = window.getComputedStyle(gd).display;\n",
       "        if (!display || display === 'none') {{\n",
       "            console.log([gd, 'removed!']);\n",
       "            Plotly.purge(gd);\n",
       "            observer.disconnect();\n",
       "        }}\n",
       "}});\n",
       "\n",
       "// Listen for the removal of the full notebook cells\n",
       "var notebookContainer = gd.closest('#notebook-container');\n",
       "if (notebookContainer) {{\n",
       "    x.observe(notebookContainer, {childList: true});\n",
       "}}\n",
       "\n",
       "// Listen for the clearing of the current output cell\n",
       "var outputEl = gd.closest('.output');\n",
       "if (outputEl) {{\n",
       "    x.observe(outputEl, {childList: true});\n",
       "}}\n",
       "\n",
       "                        })\n",
       "                };\n",
       "                });\n",
       "            </script>\n",
       "        </div>"
      ]
     },
     "metadata": {},
     "output_type": "display_data"
    },
    {
     "name": "stdout",
     "output_type": "stream",
     "text": [
      "hello\n"
     ]
    }
   ],
   "source": [
    "# Num countries vs first day max stringency\n",
    "histo = pd.read_csv('/Users/merlos/devel/magicbox-reports/magicbox-reports/data/histo_num_countries_vs_first_day_max_stringency.csv')\n",
    "    \n",
    "def histo_num_countries_vs_first_day_max_stringency():\n",
    "    x = histo['start_date']\n",
    "    y = histo['num_countries']\n",
    "    colors = histo['color']\n",
    "    fig = go.Figure()\n",
    "    fig.add_trace(\n",
    "        go.Bar(x=x, y=y, marker={'color': colors})\n",
    "    )\n",
    "    \n",
    "    fig.update_layout(\n",
    "        xaxis={'title': 'First day of maximum stringency index'},\n",
    "        yaxis={'title': 'Number of countries'},\n",
    "        margin=dict(t=0, b=20, l=0, r=0)\n",
    "    )\n",
    "    return fig\n",
    "print(\"hello\")\n",
    "print (histo.head())\n",
    "fig = histo_num_countries_vs_first_day_max_stringency()\n",
    "fig.show()\n",
    "print(\"hello\")\n"
   ]
  },
  {
   "cell_type": "code",
   "execution_count": null,
   "metadata": {},
   "outputs": [],
   "source": []
  },
  {
   "cell_type": "code",
   "execution_count": null,
   "metadata": {},
   "outputs": [],
   "source": []
  },
  {
   "cell_type": "code",
   "execution_count": null,
   "metadata": {},
   "outputs": [],
   "source": []
  },
  {
   "cell_type": "code",
   "execution_count": null,
   "metadata": {},
   "outputs": [],
   "source": []
  },
  {
   "cell_type": "code",
   "execution_count": null,
   "metadata": {},
   "outputs": [],
   "source": []
  },
  {
   "cell_type": "code",
   "execution_count": null,
   "metadata": {},
   "outputs": [],
   "source": []
  },
  {
   "cell_type": "code",
   "execution_count": null,
   "metadata": {},
   "outputs": [],
   "source": []
  },
  {
   "cell_type": "code",
   "execution_count": null,
   "metadata": {},
   "outputs": [],
   "source": []
  },
  {
   "cell_type": "code",
   "execution_count": null,
   "metadata": {},
   "outputs": [],
   "source": []
  },
  {
   "cell_type": "code",
   "execution_count": null,
   "metadata": {},
   "outputs": [],
   "source": [
    "# Scatter plot\n",
    "def total_cases_at_max_stringency_day_vs_delay_high_stringency_max_cases(): \n",
    "    return go.Figure( \n",
    "              data=go.Scatter(\n",
    "                x=gdf.loc[gdf['continent'] == continent]['delay_day_max_new_cases_per_100000_first_day_sim_max_stringency_numerical_2020-03-01_2020-06-30'],\n",
    "                y=gdf.loc[gdf['continent'] == continent]['total_cases_per_100k_at_first_day_max_stringency'],\n",
    "                text=gdf.loc[gdf['continent'] == continent]['name'],\n",
    "                mode='markers',\n",
    "                opacity=0.8,\n",
    "                marker={\n",
    "                    'size': 12, # gdf.loc[gdf['continent'] == continent]['max_stringency']\n",
    "                    'line': {'width': 0.5, 'color': 'white'},\n",
    "                    'color': i\n",
    "                },\n",
    "                name=continent\n",
    "            ) for i,continent in enumerate(gdf['continent'].unique())\n",
    "            \n",
    "        layout= go.Layout(\n",
    "            xaxis={'title': 'Days difference between maximum cases and first day high stringency'},\n",
    "            yaxis={'type': 'log', 'title': 'Total COVID cases per 100k pop. at first day max stringency'},\n",
    "            margin={'l': 100, 'b': 50, 't': 50, 'r': 100},\n",
    "                legend={'x': 1, 'y': 0.5},\n",
    "                hovermode='closest'\n",
    "            ),\n",
    "  )\n",
    "\n",
    "fig = total_cases_at_max_stringency_day_vs_delay_high_stringency_max_cases()\n",
    "    "
   ]
  },
  {
   "cell_type": "code",
   "execution_count": null,
   "metadata": {
    "scrolled": true
   },
   "outputs": [],
   "source": [
    "from urllib.request import urlopen\n",
    "\n",
    "\n",
    "with urlopen('https://raw.githubusercontent.com/plotly/datasets/master/geojson-counties-fips.json') as response:\n",
    "    counties = json.load(response)\n",
    "    print(json.dumps(countries, indent=2))\n",
    "\n",
    "df = pd.read_csv(\"https://raw.githubusercontent.com/plotly/datasets/master/fips-unemp-16.csv\",\n",
    "    dtype={\"fips\": str})\n",
    "\n",
    "\n",
    "\n",
    "def first_day_max_stringency_map1(): \n",
    "    fig = px.choropleth_mapbox(df, geojson=counties, locations='fips', color='unemp',\n",
    "                           color_continuous_scale=\"Viridis\",\n",
    "                           range_color=(0, 12),\n",
    "                           mapbox_style=\"carto-positron\",\n",
    "                           zoom=3, center = {\"lat\": 37.0902, \"lon\": -95.7129},\n",
    "                           opacity=0.5,\n",
    "                           labels={'unemp':'unemployment rate'}\n",
    "                          )\n",
    "    fig.update_layout(margin={\"r\":0,\"t\":0,\"l\":0,\"b\":0})\n",
    "    return fig\n",
    "    \n",
    "print( countries)    \n",
    "#figure = first_day_max_stringency_map1().show()\n",
    "df.head()\n"
   ]
  },
  {
   "cell_type": "code",
   "execution_count": null,
   "metadata": {},
   "outputs": [],
   "source": [
    "geodata= None\n",
    "\n",
    "with open(\"../../data/geodata_COVID-19_stringency_delay.geojson\") as f:\n",
    "    geodata = json.load(f)\n",
    "\n",
    "json_formatted_str = json.dumps(geodata, indent=2)\n",
    "\n",
    "print(json_formatted_str)\n"
   ]
  },
  {
   "cell_type": "code",
   "execution_count": null,
   "metadata": {},
   "outputs": [],
   "source": [
    "import json\n",
    "import geopandas\n",
    "\n",
    "geojson_file_path = \"../../data/geodata_COVID-19_stringency_delay.geojson\"\n",
    "\n",
    "with open(geojson_file_path) as file:\n",
    "    geodata = json.load(file)\n",
    "    \n",
    "gdf = geopandas.read_file(geojson_file_path)\n",
    "gdf.head()\n"
   ]
  },
  {
   "cell_type": "code",
   "execution_count": null,
   "metadata": {},
   "outputs": [],
   "source": [
    "# Analize max and min\n",
    "max = gdf.first_day_max_stringency_numerical.max()\n",
    "min = gdf.first_day_max_stringency_numerical.min()\n",
    "print (max, min, max-min)"
   ]
  },
  {
   "cell_type": "code",
   "execution_count": null,
   "metadata": {},
   "outputs": [],
   "source": [
    "def first_day_max_stringency_map(): \n",
    "    figure = px.choropleth_mapbox(gdf, geojson=geodata, \n",
    "        locations='iso_a3', #  \n",
    "        featureidkey=\"properties.iso_a3\",\n",
    "        color='first_day_max_stringency_numerical',                \n",
    "        color_continuous_scale=\"YlOrRd\", #https://plotly.com/python/builtin-colorscales/\n",
    "        #range_color=(0, 12),\n",
    "        mapbox_style=\"carto-positron\",\n",
    "        zoom=1, \n",
    "        center = {\"lat\": 0.0, \"lon\": 0.0},\n",
    "        opacity=.8,\n",
    "        labels={'first_day_max_stringency':'First day maxinun stringency'}\n",
    "        )\n",
    "    figure.update_layout(margin={\"r\":0,\"t\":0,\"l\":0,\"b\":0})\n",
    "    \n",
    "   # colorbar = {\"bgcolor\": \"rgba(10,10,10\",\"tickmode:\":\"array\", \n",
    "   #             \"nticks\": 5 }\n",
    "   # fig.update_traces(colorbar=colorbar)\n",
    "\n",
    "    return figure\n",
    "    \n",
    "figure = first_day_max_stringency_map().show()\n",
    "\n"
   ]
  },
  {
   "cell_type": "code",
   "execution_count": null,
   "metadata": {},
   "outputs": [],
   "source": [
    "\n",
    "\n",
    "def total_cases_per_100k_at_first_day_max_stringency_map(): \n",
    "    figure = px.choropleth_mapbox(gdf, geojson=geodata, \n",
    "        locations='iso_a3', #  \n",
    "        featureidkey=\"properties.iso_a3\",\n",
    "        color='total_cases_per_100k_at_first_day_max_stringency',                \n",
    "        color_continuous_scale=\"Reds\", #https://plotly.com/python/builtin-colorscales/\n",
    "        #range_color=(0, 12),\n",
    "        mapbox_style=\"carto-positron\",\n",
    "        zoom=1, \n",
    "        center = {\"lat\": 0.0, \"lon\": 0.0},\n",
    "        opacity=.8,\n",
    "        labels={'total_cases_per_100k_at_first_day_max_stringency':\"Cases per 100k at 1st day of maximum stringency\"}\n",
    "        )\n",
    "    figure.update_layout(margin={\"r\":0,\"t\":0,\"l\":0,\"b\":0})\n",
    "    \n",
    "    return figure\n",
    "    \n",
    "figure = total_cases_per_100k_at_first_day_max_stringency_map().show()\n"
   ]
  },
  {
   "cell_type": "code",
   "execution_count": null,
   "metadata": {},
   "outputs": [],
   "source": [
    "# color_delay_sim_max_stringency,\n",
    "def delay_day_max_new_cases_per_100k_first_day_sim_max_stringency_map(): \n",
    "    # Create a column name with a shorter name\n",
    "    gdf['delay_max_cases_with_max_stringency'] = gdf['delay_day_max_new_cases_per_100000_first_day_sim_max_stringency_numerical_2020-03-01_2020-06-30']\n",
    "    figure = px.choropleth_mapbox(gdf, geojson=geodata, \n",
    "        locations='iso_a3', #  \n",
    "        featureidkey=\"properties.iso_a3\",\n",
    "        color='delay_max_cases_with_max_stringency',                \n",
    "        color_continuous_scale=\"matter\", #https://plotly.com/python/builtin-colorscales/\n",
    "        #range_color=(0, 12),\n",
    "        mapbox_style=\"carto-positron\",\n",
    "        zoom=1, \n",
    "        center = {\"lat\": 0.0, \"lon\": 0.0},\n",
    "        opacity=.9,\n",
    "        labels={'delay_max_cases_with_max_stringency':\"Delay in days\"}\n",
    "        )\n",
    "    figure.update_layout(margin={\"r\":0,\"t\":0,\"l\":0,\"b\":0})\n",
    "    \n",
    "    return figure\n",
    "    \n",
    "figure = delay_day_max_new_cases_per_100k_first_day_sim_max_stringency_map().show()"
   ]
  },
  {
   "cell_type": "code",
   "execution_count": null,
   "metadata": {},
   "outputs": [],
   "source": [
    "gdf[\"delay_day_max_new_cases_per_100000_first_day_sim_max_stringency_numerical_2020-03-01_2020-06-30\"].min()\n"
   ]
  },
  {
   "cell_type": "code",
   "execution_count": null,
   "metadata": {},
   "outputs": [],
   "source": [
    "neg_delay = gdf.loc[gdf[\"delay_day_max_new_cases_per_100000_first_day_sim_max_stringency_numerical_2020-03-01_2020-06-30\"] < 0]\n",
    "neg_delay.loc[:,[\"iso_a3\",\"first_day_max_stringency\",\"delay_day_max_new_cases_per_100000_first_day_sim_max_stringency_numerical_2020-03-01_2020-06-30\"]]\n",
    "\n"
   ]
  },
  {
   "cell_type": "code",
   "execution_count": null,
   "metadata": {},
   "outputs": [],
   "source": [
    "gdf.head()"
   ]
  },
  {
   "cell_type": "code",
   "execution_count": null,
   "metadata": {},
   "outputs": [],
   "source": [
    "\n",
    "stringency_df = pd.read_csv('/Users/merlos/devel/magicbox-reports/magicbox-reports/data/COVID-19_stats_stringency_index.csv')\n",
    "\n",
    "UNICEF_ORANGE = '#F26A21'\n",
    "UNICEF_DARK_BLUE = '#374EA2'\n",
    "def stringency_vs_cases(iso_code='SGP'):\n",
    "\n",
    "    # Get stats only for the selected country\n",
    "   \n",
    "    filtered = stringency_df.loc[stringency_df['iso_code'] == iso_code]\n",
    "    country_name = filtered.iloc[0].location\n",
    "    print(country_name)\n",
    "    fig = make_subplots(specs=[[{\"secondary_y\": True}]])\n",
    "    #fig = go.Figure()\n",
    "    # Cases per 100k\n",
    "    fig.add_trace(\n",
    "        go.Scatter(    \n",
    "            x=filtered['date'], \n",
    "            y=filtered['new_cases_per_100000'], \n",
    "            mode='markers', \n",
    "            name=\"Cases per 100k pop\",\n",
    "            marker_color=UNICEF_ORANGE,\n",
    "        )\n",
    "    )\n",
    "    # update marker\n",
    "    fig.update_traces(mode='markers', marker_line_width=0, marker_size=2)\n",
    "    fig.add_trace(\n",
    "        go.Scatter(\n",
    "            x=filtered['date'], \n",
    "            y=filtered['new_cases_per_100000_7_day_average'], \n",
    "            mode='lines', \n",
    "            name=\"cases per 100k pop (7 day average)\",\n",
    "            marker_color=UNICEF_ORANGE\n",
    "        )\n",
    "    )\n",
    "    fig.add_trace(\n",
    "        go.Scatter(\n",
    "            x=filtered['date'], \n",
    "            y=filtered['stringency_index'], \n",
    "            mode='lines+markers',\n",
    "            name=\"Stringency index\",\n",
    "            marker=dict(size=3, color=UNICEF_DARK_BLUE)\n",
    "        ),\n",
    "        secondary_y=True,\n",
    "    )\n",
    "    \n",
    "    # Set the position of the legend\n",
    "    fig.update_layout(title=country_name, legend=dict( yanchor=\"top\",y=1.3, xanchor=\"left\",x=.5))\n",
    "    \n",
    "    # Set y-axes titles\n",
    "    fig.update_yaxes(title_text=\"<b>New COVID-19 cases per 100k population</b>\", color=UNICEF_ORANGE, secondary_y=False)\n",
    "    fig.update_yaxes(title_text=\"<b>Stringency Index</b>\", color=UNICEF_DARK_BLUE, secondary_y=True)\n",
    "    return fig\n",
    "\n",
    "\n",
    "stringency_vs_cases().show()\n"
   ]
  },
  {
   "cell_type": "code",
   "execution_count": null,
   "metadata": {},
   "outputs": [],
   "source": [
    "stringency_df = pd.read_csv('/Users/merlos/devel/magicbox-reports/magicbox-reports/data/COVID-19_stats_stringency_index.csv')\n",
    "\n",
    "UNICEF_ORANGE = '#F26A21'\n",
    "UNICEF_DARK_BLUE = '#374EA2'\n",
    "\n",
    "# Get the dataframe with the stringency index of the countries to plot \n",
    "stringency_plt_df = stringency_df.loc[(stringency_df['country_to_plot'] == True)]\n",
    "\n",
    "\n",
    "def heatmap_by_gdp(values_column, \n",
    "                   title=\"\", \n",
    "                   colorscale = 'greys'\n",
    "                  ):\n",
    "    \"\"\"\n",
    "    Using \"COVID-19_stats_stringency_index.csv\" as dataset, returns a plot with 3 heatmaps for the \n",
    "    \"high\", \"middle\", \"poor\" categories in the column \"category_gdp_per_capita\" for the countries that \n",
    "    have the mark \"country_to_plot\".any \n",
    "\n",
    "    Parameters\n",
    "    ----------\n",
    "    - values_column: (string)is the name of the column in COVID-19_stats_stringency_index.csv that we want to display.\n",
    "    - colorscale: (string) one of the builtin color scales https://plotly.com/python/builtin-colorscales/\n",
    "    \"\"\"\n",
    "    # TODO: Should we get rid of the null?\n",
    "\n",
    "    # Column \"category_gdp_per_capita\" possible values\n",
    "    gdp_categories = [\"poor\", \"middle\", \"rich\"]\n",
    "\n",
    "    min_date = \"2020-01-31\"\n",
    "    max_date = \"2020-09-29\"\n",
    "    \n",
    "    # Because we cannot call a country poor, we need a better title.. \n",
    "    gdp_titles = [\"Low income\", \"Middle income\", \"High income\"]\n",
    "    # Create the figure with as many categories of gdp \n",
    "    fig = make_subplots(rows=len(gdp_categories), \n",
    "                        cols=1, \n",
    "                        shared_yaxes=False,\n",
    "                        subplot_titles=gdp_titles)\n",
    "    fig.update_layout(height=1024, title_text=title)\n",
    "\n",
    "    # Remove null values \n",
    "    for i in range(len(gdp_categories)):\n",
    "        gdp = gdp_categories[i]\n",
    "        gdp_title = gdp_titles[i]\n",
    "        # Filter by gdp per capita. \n",
    "        # Then get rid of the other columns of the df. heatmap-df contains only the data we need for the \n",
    "        heatmap_df = stringency_plt_df.loc[(stringency_plt_df['category_gdp_per_capita'] == gdp)].loc[:, ['location', \"Date\", values_column]]\n",
    "\n",
    "        # Ensure min date and max date range\n",
    "        # For max date we just keep only dates < max date\n",
    "        heatmap_df = heatmap_df.loc[heatmap_df[\"Date\"] < max_date]\n",
    "        # For min date, as we know that the dataset does not contain it, we set a fake col with that value\n",
    "        min_date_row = {'Date': min_date, \"location\": heatmap_df.iloc[0].location, values_column: None}\n",
    "        heatmap_df = heatmap_df.append(min_date_row, ignore_index=True)\n",
    "        \n",
    "        print (\"max_col\", heatmap_df[values_column].max(), \"date-range\", heatmap_df[\"Date\"].min(), heatmap_df[\"Date\"].max())\n",
    "        \n",
    "        # Dataframe with a pivot table that has country as index the columns are the dates \n",
    "        # Countries 20-mar 21-mar 22-mar\n",
    "        # USA       1.0    2.0    3.0\n",
    "        # Italy     2.0    2.1    2.2\n",
    "        # Spain     3.0    3.1    3.2\n",
    "        pivot_df = heatmap_df.pivot(index=\"location\", columns=\"Date\", values=values_column)\n",
    "        \n",
    "        # Fill empty values with prev column valida value and the remainings with 0\n",
    "        pivot_df = pivot_df.fillna(axis=1, method=\"pad\").fillna(0)\n",
    "        \n",
    "        #print(pivot_df.head())\n",
    "        \n",
    "        #Normalize \n",
    "        max_cols = pivot_df.max(axis=1)\n",
    "        pivot_df = pivot_df.div(max_cols, axis=0) *100\n",
    "        \n",
    "        # Gets an array version of the pivot dataframe, a format tha can be used \n",
    "        # in the heatmap. \n",
    "        heatmap_values = pivot_df.to_numpy()\n",
    "        #Get the list of countries (y axes)\n",
    "        countries = heatmap_df.loc[:,'location'].unique()\n",
    "        # get the list of dates (x axes in the heatmap)\n",
    "        dates = pivot_df.columns\n",
    "        \n",
    "        #print(heatmap_values.shape)\n",
    "        #print('date numpy', len(heatmap_df['Date'].to_numpy()))\n",
    "        #print('location', len(heatmap_df['location']))\n",
    "        #print(len(heatmap_df[values_column]))\n",
    "        #print(pivot_df.columns)\n",
    "        #print(countries, len(countries))\n",
    "\n",
    "        fig.append_trace(\n",
    "            go.Heatmap(\n",
    "                z=heatmap_values,\n",
    "                y=countries,\n",
    "                x=dates,\n",
    "                colorscale=colorscale,\n",
    "                colorbar=dict(\n",
    "                    yanchor=\"top\",\n",
    "                    y=(i+1)/3,\n",
    "                    len=200, \n",
    "                    ypad=10,\n",
    "                    lenmode=\"pixels\",\n",
    "                    title=gdp_title,\n",
    "\n",
    "                    thickness=15)\n",
    "            ),\n",
    "            row=i+1, # for starts in 0, row starts in 1.\n",
    "            col=1\n",
    "        )\n",
    "    \n",
    "    return fig\n",
    "\n",
    "\n",
    "heatmap_by_gdp(\"new_cases_per_100000_7_day_average\", colorscale=\"reds\" ).show()"
   ]
  },
  {
   "cell_type": "code",
   "execution_count": null,
   "metadata": {},
   "outputs": [],
   "source": [
    "min_date = \"2020-01-31\"\n",
    "max_date = \"2020-09-29\"\n",
    "gdp_categories = [\"poor\", \"middle\", \"rich\"]\n",
    "values_column = \"stringency_index\"\n",
    "\n",
    "gdp= gdp_categories[0]\n",
    "# Filter by gdp per capita. \n",
    "# Then get rid of the other columns of the df. heatmap-df contains only the data we need for the \n",
    "heatmap_df = stringency_plt_df.loc[(stringency_plt_df['category_gdp_per_capita'] == gdp)].loc[:, ['location', \"Date\", values_column]]\n",
    "\n",
    "# Ensure min date and max date range\n",
    "# For max date we just keep only dates < max date\n",
    "heatmap_df = heatmap_df.loc[heatmap_df[\"Date\"] < max_date]\n",
    "# For min date, as we know that the dataset does not contain it, we set a fake col with that value\n",
    "min_date_row = {'Date': min_date, \"location\": heatmap_df.iloc[0].location, values_column: None}\n",
    "heatmap_df = heatmap_df.append(min_date_row, ignore_index=True)\n",
    "\n",
    "#print (\"max_col\", heatmap_df[values_column].max(), \"date-range\", heatmap_df[\"Date\"].min(), heatmap_df[\"Date\"].max())\n",
    "\n",
    "# Dataframe with a pivot table that has country as index the columns are the dates \n",
    "# Countries 20-mar 21-mar 22-mar\n",
    "# USA       1.0    2.0    3.0\n",
    "# Italy     2.0    2.1    2.2\n",
    "# Spain     3.0    3.1    3.2\n",
    "pivot_df = heatmap_df.pivot(index=\"location\", columns=\"Date\", values=values_column)\n",
    "pivot_df.head()"
   ]
  },
  {
   "cell_type": "code",
   "execution_count": null,
   "metadata": {},
   "outputs": [],
   "source": []
  },
  {
   "cell_type": "code",
   "execution_count": null,
   "metadata": {},
   "outputs": [],
   "source": [
    "max_cols = pivot_df.max(axis=1)\n",
    "pivot2_df = pivot_df.div(max_cols, axis=0) *100\n",
    "pivot2_df"
   ]
  },
  {
   "cell_type": "code",
   "execution_count": null,
   "metadata": {},
   "outputs": [],
   "source": [
    "stringency_plt_df.iloc[0].location"
   ]
  },
  {
   "cell_type": "code",
   "execution_count": null,
   "metadata": {},
   "outputs": [],
   "source": [
    "import plotly.graph_objects as go\n",
    "from plotly.subplots import make_subplots\n",
    "\n",
    "fig = make_subplots(1,2)\n",
    "\n",
    "fig.add_trace(\n",
    " go.Heatmap(x = [1, 2, 3, 4], z = [[1, 2, 3, 4], [4, -3, -1, 1]], coloraxis = \"coloraxis2\"), 1,1)\n",
    "\n",
    "fig.add_trace(\n",
    " go.Heatmap(x = [3, 4, 5, 6], z = [[10, 2, 1, 0], [4, 3, 5, 6]], coloraxis = \"coloraxis\"),1,2)\n",
    "fig.update_layout(coloraxis = {'colorscale':'viridis'}, coloraxis2 = {\"showscale\":True, \"colorbar\": 1, 'colorscale':\"greys\"})\n",
    "\n",
    "fig.show()"
   ]
  },
  {
   "cell_type": "code",
   "execution_count": null,
   "metadata": {},
   "outputs": [],
   "source": []
  },
  {
   "cell_type": "code",
   "execution_count": null,
   "metadata": {},
   "outputs": [],
   "source": []
  },
  {
   "cell_type": "code",
   "execution_count": null,
   "metadata": {},
   "outputs": [],
   "source": []
  },
  {
   "cell_type": "code",
   "execution_count": null,
   "metadata": {},
   "outputs": [],
   "source": [
    "filtered = stringency_df.loc[stringency_df['country_to_plot'] == True].loc[:,[\"location\"]]\n",
    "filtered['location'].unique()"
   ]
  },
  {
   "cell_type": "code",
   "execution_count": null,
   "metadata": {},
   "outputs": [],
   "source": [
    "\n",
    "gdp = \"rich\"\n",
    "filtered = stringency_df.loc[(stringency_df['country_to_plot'] == True) & (stringency_df['category_gdp_per_capita'] == gdp)].loc[:, ['location', \"date\", \"new_cases_per_100000_7_day_average\"]]\n",
    "filtered.head()\n",
    "countries = filtered['location'].unique()\n",
    "pivot = filtered.pivot(index=\"location\", columns=\"date\", values=\"new_cases_per_100000_7_day_average\")\n",
    "pivot.head()\n",
    "npi = pivot.to_numpy()\n",
    "npi.shape\n",
    "\n"
   ]
  },
  {
   "cell_type": "code",
   "execution_count": null,
   "metadata": {},
   "outputs": [],
   "source": [
    "#print(countries)\n",
    "#print(\"All countries\")\n",
    "#print(stringency_df.loc[:,'location'].unique())\n",
    "#print(\"------\")\n",
    "\n",
    "values_column = \"new_cases_per_100000_7_day_average\"\n",
    "# Get the dataframe with the stringency index of the countries to plot \n",
    "stringency_plt_df = stringency_df.loc[(stringency_df['country_to_plot'] == True)]\n",
    "\n",
    "# Column \"category_gdp_per_capita\" possible values\n",
    "gdp_categories = [\"poor\", \"middle\", \"rich\"]\n",
    "\n",
    "# Filter countries to plot y gdp per capita. \n",
    "# Then get rid of the other columns of the df. heatmap-df contains only the data we need for the \n",
    "heatmap_df = stringency_plt_df.loc[(stringency_plt_df['category_gdp_per_capita'] == gdp)].loc[:, ['location', \"Date\", column]]\n",
    "\n",
    "#Get the list of countries (y axes)\n",
    "countries = heatmap_df.loc[:,'location'].unique()\n",
    "\n",
    "# Gets a Dataframe with coutry as index and in which the columns are the dates \n",
    "# Countries 20-mar 21-mar 22-mar\n",
    "# USA       1.0    2.0    3.0\n",
    "# Italy     2.0    2.1    2.2\n",
    "# Spain     3.0    3.1    3.2\n",
    "pivot = filtered.pivot(index=\"location\", columns=\"Date\", values=\"new_cases_per_100000_7_day_average\")\n",
    "#print(pivot.head())\n",
    "#print(pivot)\n",
    "\n",
    "npi = pivot.to_numpy()\n",
    "print(npi.shape)\n",
    "print('date numpy', len(filtered['Date'].to_numpy()))\n",
    "print('location', len(filtered['location']))\n",
    "print(len(filtered['new_cases_per_100000_7_day_average']))\n",
    "print(pivot.columns)\n",
    "print(countries, len(countries))\n",
    "\n",
    "fig = go.Figure(\n",
    "        data=go.Heatmap(\n",
    "        z=npi,\n",
    "        y=countries,\n",
    "        x=pivot.columns,\n",
    "        colorscale='greys'\n",
    "        )\n",
    "    )\n",
    "fig.show()"
   ]
  },
  {
   "cell_type": "code",
   "execution_count": null,
   "metadata": {},
   "outputs": [],
   "source": [
    "gdp_categories = [\"poor\", \"middle\", \"rich\"]\n",
    "len(gdp_categories)  \n",
    "\n",
    "for i in range(len(gdp_categories)):\n",
    "    print(i)"
   ]
  },
  {
   "cell_type": "code",
   "execution_count": 9,
   "metadata": {},
   "outputs": [
    {
     "ename": "SyntaxError",
     "evalue": "invalid syntax (<ipython-input-9-ecb81f711b79>, line 13)",
     "output_type": "error",
     "traceback": [
      "\u001b[0;36m  File \u001b[0;32m\"<ipython-input-9-ecb81f711b79>\"\u001b[0;36m, line \u001b[0;32m13\u001b[0m\n\u001b[0;31m    min_date = \"2020-01-31\",\u001b[0m\n\u001b[0m           ^\u001b[0m\n\u001b[0;31mSyntaxError\u001b[0m\u001b[0;31m:\u001b[0m invalid syntax\n"
     ]
    }
   ],
   "source": [
    "stringency_df = pd.read_csv('/Users/merlos/devel/magicbox-reports/magicbox-reports/data/COVID-19_stats_stringency_index.csv')\n",
    "\n",
    "UNICEF_ORANGE = '#F26A21'\n",
    "UNICEF_DARK_BLUE = '#374EA2'\n",
    "\n",
    "# Get the dataframe with the stringency index of the countries to plot \n",
    "stringency_plt_df = stringency_df.loc[(stringency_df['country_to_plot'] == True)]\n",
    "\n",
    "\n",
    "def heatmap_by_gdp(values_column,  \n",
    "                      gdp,\n",
    "                      title=\"\"\n",
    "                      min_date = \"2020-01-31\", \n",
    "                      max_date = \"2020-09-29\", \n",
    "                      colorscale = 'greys'\n",
    "                      normalize=True):\n",
    "    \"\"\"\n",
    "    Using \"COVID-19_stats_stringency_index.csv\" as dataset, returns a plot with 3 heatmaps for the \n",
    "    \"high\", \"middle\", \"poor\" categories in the column \"category_gdp_per_capita\" for the countries that \n",
    "    have the mark \"country_to_plot\".any \n",
    "\n",
    "    Parameters\n",
    "    ----------\n",
    "    - values_column: (string)is the name of the column in COVID-19_stats_stringency_index.csv that we want to display.\n",
    "    - colorscale: (string) one of the builtin color scales https://plotly.com/python/builtin-colorscales/\n",
    "    \"\"\"\n",
    "    \n",
    "    # Filter by gdp per capita. \n",
    "    # Then get rid of the other columns of the df. heatmap-df contains only the data we need for the \n",
    "    heatmap_df = stringency_plt_df.loc[(stringency_plt_df['category_gdp_per_capita'] == gdp)].loc[:, ['location', \"Date\", values_column]]\n",
    "\n",
    "    # Ensure min date and max date range\n",
    "    # For max date we just keep only dates < max date\n",
    "    heatmap_df = heatmap_df.loc[heatmap_df[\"Date\"] < max_date]\n",
    "        # For min date, as we know that the dataset does not contain it, we set a fake col with that value\n",
    "        min_date_row = {'Date': min_date, \"location\": heatmap_df.iloc[0].location, values_column: None}\n",
    "        heatmap_df = heatmap_df.append(min_date_row, ignore_index=True)\n",
    "        \n",
    "        print (\"max_col\", heatmap_df[values_column].max(), \"date-range\", heatmap_df[\"Date\"].min(), heatmap_df[\"Date\"].max())\n",
    "        \n",
    "        # Dataframe with a pivot table that has country as index the columns are the dates \n",
    "        # Countries 20-mar 21-mar 22-mar\n",
    "        # USA       1.0    2.0    3.0\n",
    "        # Italy     2.0    2.1    2.2\n",
    "        # Spain     3.0    3.1    3.2\n",
    "        pivot_df = heatmap_df.pivot(index=\"location\", columns=\"Date\", values=values_column)\n",
    "        \n",
    "        # Fill empty values with prev column valida value and the remainings with 0\n",
    "        pivot_df = pivot_df.fillna(axis=1, method=\"pad\").fillna(0)\n",
    "        \n",
    "        #print(pivot_df.head())\n",
    "        \n",
    "        #Normalize \n",
    "        if normalize:\n",
    "            max_cols = pivot_df.max(axis=1)\n",
    "            pivot_df = pivot_df.div(max_cols, axis=0) *100\n",
    "        \n",
    "        # Gets an array version of the pivot dataframe, a format tha can be used \n",
    "        # in the heatmap. \n",
    "        heatmap_values = pivot_df.to_numpy()\n",
    "        #Get the list of countries (y axes)\n",
    "        countries = heatmap_df.loc[:,'location'].unique()\n",
    "        # get the list of dates (x axes in the heatmap)\n",
    "        dates = pivot_df.columns\n",
    "        \n",
    "        #print(heatmap_values.shape)\n",
    "        #print('date numpy', len(heatmap_df['Date'].to_numpy()))\n",
    "        #print('location', len(heatmap_df['location']))\n",
    "        #print(len(heatmap_df[values_column]))\n",
    "        #print(pivot_df.columns)\n",
    "        #print(countries, len(countries))\n",
    "        fig = go.Figure()\n",
    "        fig.add_trace( \n",
    "            go.Heatmap(\n",
    "                z=heatmap_values,\n",
    "                y=countries,\n",
    "                x=dates,\n",
    "                colorscale=colorscale,\n",
    "                colorbar=dict(\n",
    "                    yanchor=\"top\",\n",
    "                    title=gdp_title,\n",
    "                    thickness=15\n",
    "                )\n",
    "            )\n",
    "        )\n",
    "        return fig\n",
    "    \n",
    "\n",
    "heatmap_by_gdp(\"new_cases_per_100000_7_day_average\", gdp=\"poor\", colorscale=\"reds\" ).show()"
   ]
  },
  {
   "cell_type": "code",
   "execution_count": null,
   "metadata": {},
   "outputs": [],
   "source": []
  },
  {
   "cell_type": "code",
   "execution_count": null,
   "metadata": {},
   "outputs": [],
   "source": []
  },
  {
   "cell_type": "code",
   "execution_count": null,
   "metadata": {},
   "outputs": [],
   "source": []
  },
  {
   "cell_type": "code",
   "execution_count": null,
   "metadata": {},
   "outputs": [],
   "source": []
  },
  {
   "cell_type": "code",
   "execution_count": null,
   "metadata": {},
   "outputs": [],
   "source": []
  },
  {
   "cell_type": "code",
   "execution_count": null,
   "metadata": {},
   "outputs": [],
   "source": []
  },
  {
   "cell_type": "code",
   "execution_count": null,
   "metadata": {},
   "outputs": [],
   "source": []
  },
  {
   "cell_type": "code",
   "execution_count": null,
   "metadata": {},
   "outputs": [],
   "source": []
  },
  {
   "cell_type": "code",
   "execution_count": null,
   "metadata": {},
   "outputs": [],
   "source": []
  }
 ],
 "metadata": {
  "kernelspec": {
   "display_name": "Python 3",
   "language": "python",
   "name": "python3"
  },
  "language_info": {
   "codemirror_mode": {
    "name": "ipython",
    "version": 3
   },
   "file_extension": ".py",
   "mimetype": "text/x-python",
   "name": "python",
   "nbconvert_exporter": "python",
   "pygments_lexer": "ipython3",
   "version": "3.7.6"
  }
 },
 "nbformat": 4,
 "nbformat_minor": 4
}
